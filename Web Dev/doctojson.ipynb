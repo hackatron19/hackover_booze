{
 "cells": [
  {
   "cell_type": "code",
   "execution_count": 8,
   "metadata": {},
   "outputs": [],
   "source": [
    "import json\n",
    "\n",
    "def process_text_to_json():\n",
    "    j=1\n",
    "    location_data = []\n",
    "    location_data1 = []\n",
    "    with open(\"C:\\\\Users\\\\Priyanshu_pc\\\\Desktop\\\\text.txt\") as f:\n",
    "        for line in f:\n",
    "            line = line.split('\\n')\n",
    "            for i in line: \n",
    "                if j==1:\n",
    "                    location_data1.append({\"sub\": i})\n",
    "                    j+=1\n",
    "                    continue\n",
    "                if i=='':\n",
    "                    pass\n",
    "                else:\n",
    "                    location_data.append({\"roll\": i})\n",
    "\n",
    "    location_data = {\"roll1\": location_data}\n",
    "    \n",
    "    for i in location_data1:\n",
    "        location_data1.append(location_data)\n",
    "        if j==2:\n",
    "            break\n",
    "    \n",
    "    f.close()\n",
    "    with open('C:\\\\Users\\\\Priyanshu_pc\\\\Desktop\\\\temp\\\\t.json','w') as f1:\n",
    "        json.dump(location_data1,f1)\n",
    "        \n",
    "\n",
    "process_text_to_json()\n",
    "\n"
   ]
  },
  {
   "cell_type": "code",
   "execution_count": null,
   "metadata": {},
   "outputs": [],
   "source": []
  },
  {
   "cell_type": "code",
   "execution_count": null,
   "metadata": {},
   "outputs": [],
   "source": []
  },
  {
   "cell_type": "code",
   "execution_count": null,
   "metadata": {},
   "outputs": [],
   "source": []
  },
  {
   "cell_type": "code",
   "execution_count": null,
   "metadata": {},
   "outputs": [],
   "source": []
  }
 ],
 "metadata": {
  "kernelspec": {
   "display_name": "Python 3",
   "language": "python",
   "name": "python3"
  },
  "language_info": {
   "codemirror_mode": {
    "name": "ipython",
    "version": 3
   },
   "file_extension": ".py",
   "mimetype": "text/x-python",
   "name": "python",
   "nbconvert_exporter": "python",
   "pygments_lexer": "ipython3",
   "version": "3.7.1"
  }
 },
 "nbformat": 4,
 "nbformat_minor": 2
}
